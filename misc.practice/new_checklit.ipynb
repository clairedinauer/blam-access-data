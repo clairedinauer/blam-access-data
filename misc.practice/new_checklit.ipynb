{
 "cells": [
  {
   "cell_type": "code",
   "execution_count": 1,
   "metadata": {},
   "outputs": [],
   "source": [
    "import pandas as pd\n",
    "import numpy as np"
   ]
  },
  {
   "cell_type": "code",
   "execution_count": 2,
   "metadata": {},
   "outputs": [],
   "source": [
    "df = pd.read_excel('practice_checklist.xlsx')"
   ]
  },
  {
   "cell_type": "code",
   "execution_count": 24,
   "metadata": {},
   "outputs": [
    {
     "name": "stdin",
     "output_type": "stream",
     "text": [
      "Please enter BeliefID:  B2\n"
     ]
    },
    {
     "name": "stdout",
     "output_type": "stream",
     "text": [
      "Great, let me pull up data for participant B2.\n",
      "form 1  missing\n",
      "form 2 missing\n"
     ]
    }
   ],
   "source": [
    "beliefid = str(input('Please enter BeliefID: '))\n",
    "belieflist = [\n",
    "'B1',\n",
    "'B2',\n",
    "'M042300',\n",
    "'M042311',\n",
    "'M042322',\n",
    "'M042333',\n",
    "'M042344',\n",
    "'M042355',\n",
    "'M042366',\n",
    "'M042377',\n",
    "'M042388',\n",
    "'M042390',\n",
    "'M042401',\n",
    "'M042412',\n",
    "'M042423',\n",
    "'M042434',\n",
    "'M042445',\n",
    "'M042456',\n",
    "'M042467',\n",
    "'M042478',\n",
    "'M042480',\n",
    "'M042491',\n",
    "'M042502',\n",
    "'M042513',\n",
    "'M042524',\n",
    "'M042535',\n",
    "'M042546',\n",
    "'M042557',\n",
    "'M042568',\n",
    "'M042570',\n",
    "'M042581',\n",
    "'M042592',\n",
    "'M042603',\n",
    "'M042614',\n",
    "'M042625',\n",
    "'M042636',\n",
    "'M042647',\n",
    "'M042658',\n",
    "'M042660',\n",
    "'M042671',\n",
    "'M042682',\n",
    "'M042693',\n",
    "'M042704',\n",
    "'M042715',\n",
    "'M042726',\n",
    "'M042737',\n",
    "'M042748',\n",
    "'M042750',\n",
    "'M042761',\n",
    "'M042772',\n",
    "'M042783',\n",
    "'M042794'\n",
    "]\n",
    "\n",
    "if beliefid in belieflist:\n",
    "    print (\"Great, let me pull up data for participant \" + beliefid + \".\")\n",
    "           \n",
    "    #this selects all rows where the participant id is equal to the user input\n",
    "    df_temp = df[df['Participant_ID'] == beliefid]\n",
    "\n",
    "    #this resets the index to regular, so we can just use iloc(0)\n",
    "    df_temp = df_temp.reset_index()\n",
    "\n",
    "    #\n",
    "    forms = ['form 1 ', 'form 2', 'form 3']\n",
    "    for i in forms:\n",
    "        if df_temp.loc[0, i] == 'no':\n",
    "            print(i + ' missing')\n",
    "        \n",
    "else:\n",
    "    print(\"Sorry, I do not have \" + beliefid + \" on file.\")"
   ]
  },
  {
   "cell_type": "code",
   "execution_count": null,
   "metadata": {},
   "outputs": [],
   "source": []
  }
 ],
 "metadata": {
  "kernelspec": {
   "display_name": "Python 3",
   "language": "python",
   "name": "python3"
  },
  "language_info": {
   "codemirror_mode": {
    "name": "ipython",
    "version": 3
   },
   "file_extension": ".py",
   "mimetype": "text/x-python",
   "name": "python",
   "nbconvert_exporter": "python",
   "pygments_lexer": "ipython3",
   "version": "3.7.4"
  }
 },
 "nbformat": 4,
 "nbformat_minor": 4
}
